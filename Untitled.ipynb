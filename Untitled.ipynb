{
 "cells": [
  {
   "cell_type": "code",
   "execution_count": 60,
   "id": "50218828",
   "metadata": {},
   "outputs": [],
   "source": [
    "class Dog():\n",
    "    \n",
    "    def __init__(self, name, age):\n",
    "        self.name = name\n",
    "        self.age = age\n",
    "        \n",
    "    def sit(self):\n",
    "        print(self.name.title() + \" is now sitting\")\n",
    "        \n",
    "    def roll_over(self):\n",
    "        print(self.name.title() + ' rolled over!')\n",
    "        \n",
    "    def get_older(self, age):\n",
    "        self.age = self.age + age\n",
    "        print(self.name.title() + ' is now {b1} old, it was {b2} before'.format(b1 = self.age, b2 = self.age - age))\n",
    "        if self.age > 25:\n",
    "            print(self.name.title() + ' has died at {b1}'.format(b1=self.age))"
   ]
  },
  {
   "cell_type": "code",
   "execution_count": 61,
   "id": "4c854ee0",
   "metadata": {},
   "outputs": [],
   "source": [
    "dog1 = Dog('willie', 6)\n",
    "dog2 = Dog('pug', 3)\n",
    "dog3 = Dog('jim', 7)"
   ]
  },
  {
   "cell_type": "code",
   "execution_count": 62,
   "id": "37a5419b",
   "metadata": {},
   "outputs": [
    {
     "name": "stdout",
     "output_type": "stream",
     "text": [
      "Willie is now sitting\n",
      "Willie rolled over!\n",
      "Willie is now sitting\n"
     ]
    }
   ],
   "source": [
    "dog1.sit()\n",
    "dog1.roll_over()\n",
    "dog1.sit()"
   ]
  },
  {
   "cell_type": "code",
   "execution_count": 66,
   "id": "15ca46be",
   "metadata": {},
   "outputs": [
    {
     "name": "stdout",
     "output_type": "stream",
     "text": [
      "Willie is now 26 old, it was 21 before\n",
      "Williehas died at 26\n"
     ]
    }
   ],
   "source": [
    "dog1.get_older(5)"
   ]
  },
  {
   "cell_type": "code",
   "execution_count": null,
   "id": "dabc3ba2",
   "metadata": {},
   "outputs": [],
   "source": []
  }
 ],
 "metadata": {
  "kernelspec": {
   "display_name": "Python 3 (ipykernel)",
   "language": "python",
   "name": "python3"
  },
  "language_info": {
   "codemirror_mode": {
    "name": "ipython",
    "version": 3
   },
   "file_extension": ".py",
   "mimetype": "text/x-python",
   "name": "python",
   "nbconvert_exporter": "python",
   "pygments_lexer": "ipython3",
   "version": "3.9.12"
  }
 },
 "nbformat": 4,
 "nbformat_minor": 5
}
